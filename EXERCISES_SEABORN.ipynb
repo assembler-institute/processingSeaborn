{
 "cells": [
  {
   "cell_type": "markdown",
   "id": "80f6d404",
   "metadata": {},
   "source": [
    "# EXERCISE 1\n",
    "\n",
    "Take the dataset from 'housing_california.csv' and load it as a dataframe, then solve the following questions:\n",
    "\n",
    "1. Eliminate the variables longitude and latitude.\n",
    "2. Make a *pairs* plot explained by the variable ocean_proximity, whose main plot is a histogram.\n",
    "3. Analyze the correlation of numerical variables through a heatmap.\n",
    "4. Analyze the point cloud between total_rooms, total_bedrooms together with its linear regression model.\n",
    "5. Take the first 1000 rows of the dataframe and represent the population point cloud based on each category of proximity to the ocean.\n",
    "\n",
    "## SOLUTION"
   ]
  },
  {
   "cell_type": "markdown",
   "id": "85656a83",
   "metadata": {},
   "source": [
    "1. Eliminate the variables longitude and latitude."
   ]
  },
  {
   "cell_type": "code",
   "execution_count": null,
   "id": "0e55e80d",
   "metadata": {},
   "outputs": [],
   "source": []
  },
  {
   "cell_type": "markdown",
   "id": "c3c347a3",
   "metadata": {},
   "source": [
    "2. Make a *pairs* plot explained by the variable ocean_proximity, whose main plot is a histogram."
   ]
  },
  {
   "cell_type": "code",
   "execution_count": null,
   "id": "586849c5",
   "metadata": {},
   "outputs": [],
   "source": []
  },
  {
   "cell_type": "markdown",
   "id": "aaa1c057",
   "metadata": {},
   "source": [
    "3. Analyze the correlation of numerical variables through a heatmap."
   ]
  },
  {
   "cell_type": "code",
   "execution_count": null,
   "id": "a0f4a653",
   "metadata": {},
   "outputs": [],
   "source": []
  },
  {
   "cell_type": "markdown",
   "id": "e57a0a0c",
   "metadata": {},
   "source": [
    "4. Analyze the point cloud between total_rooms, total_bedrooms together with its linear regression model."
   ]
  },
  {
   "cell_type": "code",
   "execution_count": null,
   "id": "90937187",
   "metadata": {},
   "outputs": [],
   "source": []
  },
  {
   "cell_type": "markdown",
   "id": "fe0be5d3",
   "metadata": {},
   "source": [
    "5. Take the first 1000 rows of the dataframe and represent the histogram population based on each category of proximity to the ocean."
   ]
  },
  {
   "cell_type": "code",
   "execution_count": null,
   "id": "a0e07c66",
   "metadata": {},
   "outputs": [],
   "source": []
  },
  {
   "cell_type": "markdown",
   "id": "9c58aac6",
   "metadata": {},
   "source": [
    "# EXERCISE 2\n",
    "\n",
    "Using the Apple Stock csv (AAPL.csv), perform the following visualizations:\n",
    "* Obtain a bar plot of the first 5 dates of the dataset for the opening and closing prices.\n",
    "* Makes a cloud of points with the volume of the action and the adjusted closing, it also shows the adjustment line (linear regression), between both variables\n",
    "* Make a heat map by correlating the dataframe\n",
    "* Get a histogram by turning off the density function\n",
    "* Make a graph of the entire time series on the highest and lowest prices, so that the lines are more differentiated, subtract 40 points from all the lowest prices.\n",
    "\n",
    "\n",
    "## SOLUTION"
   ]
  },
  {
   "cell_type": "markdown",
   "id": "3e0e54fe",
   "metadata": {},
   "source": [
    "* Obtain a bar plot of the first 5 dates of the dataset for the opening and closing prices."
   ]
  },
  {
   "cell_type": "code",
   "execution_count": null,
   "id": "07f1b582",
   "metadata": {},
   "outputs": [],
   "source": []
  },
  {
   "cell_type": "markdown",
   "id": "3db05e4a",
   "metadata": {},
   "source": [
    "* Makes a scatterplot with the volume of the action and the adjusted closing, it also shows the adjustment line (linear regression), between both variables"
   ]
  },
  {
   "cell_type": "code",
   "execution_count": null,
   "id": "aab1473d",
   "metadata": {},
   "outputs": [],
   "source": []
  },
  {
   "cell_type": "markdown",
   "id": "ad21bef8",
   "metadata": {},
   "source": [
    "* Make a heat map by correlating the dataframe"
   ]
  },
  {
   "cell_type": "code",
   "execution_count": null,
   "id": "4dc82795",
   "metadata": {},
   "outputs": [],
   "source": []
  },
  {
   "cell_type": "markdown",
   "id": "7c364391",
   "metadata": {},
   "source": [
    "* Get a histogram by turning off the density function"
   ]
  },
  {
   "cell_type": "code",
   "execution_count": null,
   "id": "08be8df0",
   "metadata": {},
   "outputs": [],
   "source": []
  },
  {
   "cell_type": "markdown",
   "id": "e46b5ada",
   "metadata": {},
   "source": [
    "* Make a graph of the entire time series on the highest and lowest prices, so that the lines are more differentiated, subtract 40 points from all the lowest prices."
   ]
  },
  {
   "cell_type": "code",
   "execution_count": null,
   "id": "ac164e75",
   "metadata": {},
   "outputs": [],
   "source": []
  },
  {
   "cell_type": "markdown",
   "id": "92979e3b",
   "metadata": {},
   "source": [
    "# EXERCISE 3\n",
    "\n",
    "Take the dataset heart_disease that include the following columns.\n",
    "\n",
    "**List of available variables (includes target variable `num`):**\n",
    "\n",
    "- **age**: continuous\n",
    "- **sex**: categorical, 2 values {0: female, 1: male}\n",
    "- **cp** (chest pain type): categorical, 4 values\n",
    "    {1: typical angina, 2: atypical angina, 3: non-angina, 4: asymptomatic angina}\n",
    "- **restbp** (resting blood pressure on admission to hospital): continuous (mmHg)\n",
    "- **chol (serum cholesterol level)**: continuous (mg/dl)\n",
    "- **fbs** (fasting blood sugar): categorical, 2 values {0: <= 120 mg/dl, 1: > 120 mg/dl}\n",
    "- **restecg** (resting electrocardiography): categorical, 3 values\n",
    "    {0: normal, 1: ST-T wave abnormality, 2: left ventricular hypertrophy}\n",
    "- **thalach** (maximum heart rate achieved): continuous\n",
    "- **exang** (exercise induced angina): categorical, 2 values {0: no, 1: yes}\n",
    "- **oldpeak** (ST depression induced by exercise relative to rest): continuous\n",
    "- **slope** (slope of peak exercise ST segment): categorical, 3 values \n",
    "    {1: upsloping, 2: flat, 3: downsloping}\n",
    "- **ca** (number of major vessels colored by fluoroscopy): discrete (0,1,2,3)\n",
    "- **thal**: categorical, 3 values {3: normal, 6: fixed defect, 7: reversible defect}\n",
    "- **num** (diagnosis of heart disease): categorical, 5 values \n",
    "    {0: less than 50% narrowing in any major vessel, \n",
    "    1-4: more than 50% narrowing in 1-4 vessels}\n",
    "\n",
    "Answer the following questions about the data with charts.\n",
    "\n",
    "01. At what ages do people seek cardiological exams? \n",
    "02. Do men seek help more than women? \n",
    "03. Examine the variables. How do they relate to one another?\n",
    "04. What % of men and women seek cardio exams? \n",
    "05. Does resting blood pressure increase with age?\n",
    "\n",
    "## SOLUTION"
   ]
  },
  {
   "cell_type": "markdown",
   "id": "851aa10c",
   "metadata": {},
   "source": [
    "01. At what ages do people seek cardiological exams? "
   ]
  },
  {
   "cell_type": "code",
   "execution_count": null,
   "id": "de280929",
   "metadata": {},
   "outputs": [],
   "source": []
  },
  {
   "cell_type": "markdown",
   "id": "a27c928e",
   "metadata": {},
   "source": [
    "02. Do men seek help more than women? "
   ]
  },
  {
   "cell_type": "code",
   "execution_count": null,
   "id": "daf62b7f",
   "metadata": {},
   "outputs": [],
   "source": []
  },
  {
   "cell_type": "markdown",
   "id": "be985cd5",
   "metadata": {},
   "source": [
    "03. Examine the variables. How do they relate to one another?"
   ]
  },
  {
   "cell_type": "code",
   "execution_count": null,
   "id": "36a27a81",
   "metadata": {},
   "outputs": [],
   "source": []
  },
  {
   "cell_type": "markdown",
   "id": "0435a9e4",
   "metadata": {},
   "source": [
    "04. What % of men and women seek cardio exams? "
   ]
  },
  {
   "cell_type": "code",
   "execution_count": null,
   "id": "09da4abe",
   "metadata": {},
   "outputs": [],
   "source": []
  },
  {
   "cell_type": "markdown",
   "id": "b02a32b4",
   "metadata": {},
   "source": [
    "05. Does resting blood pressure increase with age?"
   ]
  },
  {
   "cell_type": "code",
   "execution_count": null,
   "id": "5251536b",
   "metadata": {},
   "outputs": [],
   "source": []
  }
 ],
 "metadata": {
  "kernelspec": {
   "display_name": "Python 3",
   "language": "python",
   "name": "python3"
  },
  "language_info": {
   "codemirror_mode": {
    "name": "ipython",
    "version": 3
   },
   "file_extension": ".py",
   "mimetype": "text/x-python",
   "name": "python",
   "nbconvert_exporter": "python",
   "pygments_lexer": "ipython3",
   "version": "3.7.6"
  }
 },
 "nbformat": 4,
 "nbformat_minor": 5
}
